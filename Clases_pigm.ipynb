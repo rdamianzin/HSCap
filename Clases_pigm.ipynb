{
 "cells": [
  {
   "cell_type": "code",
   "execution_count": 1,
   "id": "873116db",
   "metadata": {},
   "outputs": [],
   "source": [
    "from spectral import *\n",
    "\n",
    "import spectral.io.envi as envi\n",
    "\n",
    "import numpy as np\n",
    "\n",
    "import matplotlib.pyplot as plt\n",
    "\n",
    "def norma(vector):\n",
    "    \"\"\" Returns the unit vector of the vector.  \"\"\"\n",
    "    return vector / np.linalg.norm(vector)\n",
    "\n",
    "def angulo(v1, v2):\n",
    "    v1_u = norma(v1)\n",
    "    v2_u = norma(v2)\n",
    "    return np.arccos(np.clip(np.dot(v1_u, v2_u), -1.0, 1.0))\n",
    "\n",
    "img = envi.open('./img/004.hdr', \"./img/004.float\")\n",
    "\n",
    "data_trn = img[50:160, 290:400,:]\n",
    "\n",
    "# inicializo estructuras\n",
    "\n",
    "d_renglones, d_colunmas, d_bandas = np.shape(data_trn)\n",
    "\n",
    "idx_largo = 0\n",
    "\n",
    "idx_ancho = 0\n",
    "\n",
    "data_cmp = []\n",
    "\n",
    "data_trest = []\n",
    "\n",
    "data_clasifica = []\n",
    "\n",
    "data_pixel_clasifica = []\n",
    "\n",
    "#aplano la matriz de espectros y le agrgo su posicion en el arreglo original\n",
    "# l_2 = l_2.astype(np.float32)\n",
    "\n",
    "for largo in data_trn:\n",
    "    for ancho in largo:\n",
    "        arr_coord = np.float32([idx_largo, idx_ancho])\n",
    "        arr_banda_plus = np.concatenate((ancho, arr_coord)) \n",
    "        data_trest.append([arr_banda_plus])\n",
    "        idx_ancho = idx_ancho + 1\n",
    "    idx_largo = idx_largo + 1\n",
    "    idx_ancho = 0\n",
    "\n",
    "# voy a hacer una lista de clases que esten muy cercanas, empiezo con 0.2\n",
    "\n",
    "data_clases = []\n",
    "\n",
    "data_pixel_clases = []"
   ]
  },
  {
   "cell_type": "code",
   "execution_count": 2,
   "id": "3d10acbf",
   "metadata": {},
   "outputs": [
    {
     "name": "stdout",
     "output_type": "stream",
     "text": [
      "12099\n",
      "12096\n",
      "12092\n",
      "12084\n",
      "12030\n",
      "10287\n",
      "10284\n",
      "10281\n",
      "10271\n",
      "10249\n",
      "10241\n",
      "10229\n",
      "8930\n",
      "8887\n",
      "8789\n",
      "7467\n",
      "7358\n",
      "3537\n",
      "750\n"
     ]
    }
   ],
   "source": [
    "while (len(data_trest)):\n",
    "    pixel = data_trest[0]\n",
    "    \n",
    "    data_trest = data_trest[1:]\n",
    "    \n",
    "    pixel = np.reshape(pixel, (d_bandas+2,))\n",
    "    \n",
    "    data_clasifica.append([pixel])\n",
    "    \n",
    "    for largo in data_trest:\n",
    "        for ancho in largo:\n",
    "            if (angulo(ancho, pixel) < 0.3):\n",
    "                data_clasifica.append([ancho])\n",
    "            else:\n",
    "                data_cmp.append([ancho])\n",
    "    print(len(data_trest))\n",
    "    data_trest = data_cmp\n",
    "    data_clases.append(data_clasifica)\n",
    "    data_cmp = []\n",
    "    data_clasifica = []"
   ]
  },
  {
   "cell_type": "code",
   "execution_count": 3,
   "id": "347edae2",
   "metadata": {},
   "outputs": [
    {
     "name": "stdout",
     "output_type": "stream",
     "text": [
      "3\n",
      "4\n",
      "8\n",
      "54\n",
      "1743\n",
      "3\n",
      "3\n",
      "10\n",
      "22\n",
      "8\n",
      "12\n",
      "1299\n",
      "43\n",
      "98\n",
      "1322\n",
      "109\n",
      "3821\n",
      "2787\n",
      "751\n"
     ]
    }
   ],
   "source": [
    "for i in data_clases:\n",
    "    print(len(i))"
   ]
  },
  {
   "cell_type": "code",
   "execution_count": 4,
   "id": "ea70f8e8",
   "metadata": {},
   "outputs": [],
   "source": [
    "color = [255, 200, 0]"
   ]
  },
  {
   "cell_type": "code",
   "execution_count": 7,
   "id": "affb3372",
   "metadata": {},
   "outputs": [],
   "source": [
    "img_trans = np.zeros((d_renglones, d_colunmas,3))\n",
    "for i in data_clases[16]:\n",
    "    x, y = np.int_(i[0][128:])\n",
    "    img_trans[x][y] = color"
   ]
  },
  {
   "cell_type": "code",
   "execution_count": 8,
   "id": "3f0d5e9e",
   "metadata": {},
   "outputs": [
    {
     "name": "stderr",
     "output_type": "stream",
     "text": [
      "Clipping input data to the valid range for imshow with RGB data ([0..1] for floats or [0..255] for integers).\n"
     ]
    },
    {
     "data": {
      "text/plain": [
       "<matplotlib.image.AxesImage at 0x1b169e1a280>"
      ]
     },
     "execution_count": 8,
     "metadata": {},
     "output_type": "execute_result"
    },
    {
     "data": {
      "image/png": "[encoded data removed]",
      "text/plain": [
       "<Figure size 640x480 with 1 Axes>"
      ]
     },
     "metadata": {},
     "output_type": "display_data"
    }
   ],
   "source": [
    "plt.imshow(img_trans)"
   ]
  },
  {
   "cell_type": "code",
   "execution_count": null,
   "id": "b73377c0",
   "metadata": {},
   "outputs": [],
   "source": []
  }
 ],
 "metadata": {
  "kernelspec": {
   "display_name": "Python 3 (ipykernel)",
   "language": "python",
   "name": "python3"
  },
  "language_info": {
   "codemirror_mode": {
    "name": "ipython",
    "version": 3
   },
   "file_extension": ".py",
   "mimetype": "text/x-python",
   "name": "python",
   "nbconvert_exporter": "python",
   "pygments_lexer": "ipython3",
   "version": "3.9.13"
  }
 },
 "nbformat": 4,
 "nbformat_minor": 5
}
